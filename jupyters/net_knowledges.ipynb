{
 "cells": [
  {
   "cell_type": "code",
   "execution_count": 1,
   "metadata": {},
   "outputs": [],
   "source": [
    "import torch \n",
    "import torch.nn as nn"
   ]
  },
  {
   "cell_type": "markdown",
   "metadata": {},
   "source": [
    "# LSTM"
   ]
  },
  {
   "cell_type": "markdown",
   "metadata": {},
   "source": [
    "```\n",
    "\n",
    "input_size:  The number of expected features in the input `x`\n",
    "\n",
    "hidden_size: The number of features in the hidden state `h`\n",
    "\n",
    "num_layers: Number of recurrent layers. E.g., setting ``num_layers=2``\n",
    "            would mean stacking two LSTMs together to form a `stacked LSTM`,\n",
    "            with the second LSTM taking in outputs of the first LSTM and\n",
    "            computing the final results. Default: 1\n",
    "            \n",
    "bias: If ``False``, then the layer does not use bias weights `b_ih` and `b_hh`.\n",
    "      Default: ``True``\n",
    "      \n",
    "batch_first: If ``True``, then the input and output tensors are provided\n",
    "             as (batch, seq, feature). Default: ``False``\n",
    "             \n",
    "dropout: If non-zero, introduces a `Dropout` layer on the outputs of each\n",
    "         LSTM layer except the last layer, with dropout probability equal to\n",
    "         :attr:`dropout`. Default: 0\n",
    "         \n",
    "bidirectional: If ``True``, becomes a bidirectional LSTM. Default: ``False``\n",
    "\n",
    "```\n",
    "\n",
    "```\n",
    "# input:    (seq, batch, input_dim)\n",
    "# output:   (seq, batch, output_dim * direction)          # 最后一层所有step的hidden\n",
    "# hidden/c: (1 * layers * direction, batch, output_dim )  # 最后一个step所有层的hidden，双向不是在outputdim，是算前面，\n",
    "                                                          # h的维度始终和指定的 hidden_dim 一致\n",
    "        \n",
    "```"
   ]
  },
  {
   "cell_type": "code",
   "execution_count": 2,
   "metadata": {},
   "outputs": [],
   "source": [
    "# 单层/单向\n",
    "lstm1 = nn.LSTM(input_size=1,\n",
    "               hidden_size=10,\n",
    "               num_layers=1,\n",
    "               bidirectional=False)"
   ]
  },
  {
   "cell_type": "code",
   "execution_count": 8,
   "metadata": {},
   "outputs": [],
   "source": [
    "inputs = torch.rand(5, 32, 1)\n",
    "output, (h, c) = lstm1(inputs)"
   ]
  },
  {
   "cell_type": "code",
   "execution_count": 9,
   "metadata": {},
   "outputs": [
    {
     "name": "stdout",
     "output_type": "stream",
     "text": [
      "input: torch.Size([5, 32, 1])\n",
      "output: torch.Size([5, 32, 10])\n",
      "hidden: torch.Size([1, 32, 10])\n"
     ]
    }
   ],
   "source": [
    "print('input:', inputs.size())\n",
    "print('output:', output.size())\n",
    "print('hidden:', h.size())"
   ]
  },
  {
   "cell_type": "code",
   "execution_count": null,
   "metadata": {},
   "outputs": [],
   "source": []
  },
  {
   "cell_type": "code",
   "execution_count": 10,
   "metadata": {},
   "outputs": [],
   "source": [
    "# 2层/单向\n",
    "lstm2 = nn.LSTM(input_size=1,\n",
    "               hidden_size=10,\n",
    "               num_layers=2,\n",
    "               bidirectional=False)"
   ]
  },
  {
   "cell_type": "code",
   "execution_count": 11,
   "metadata": {},
   "outputs": [],
   "source": [
    "inputs = torch.rand(5, 32, 1)\n",
    "output, (h, c) = lstm2(inputs)"
   ]
  },
  {
   "cell_type": "code",
   "execution_count": 12,
   "metadata": {},
   "outputs": [
    {
     "name": "stdout",
     "output_type": "stream",
     "text": [
      "input: torch.Size([5, 32, 1])\n",
      "output: torch.Size([5, 32, 10])\n",
      "hidden: torch.Size([2, 32, 10])\n"
     ]
    }
   ],
   "source": [
    "print('input:', inputs.size())\n",
    "print('output:', output.size())\n",
    "print('hidden:', h.size())"
   ]
  },
  {
   "cell_type": "code",
   "execution_count": null,
   "metadata": {},
   "outputs": [],
   "source": []
  },
  {
   "cell_type": "code",
   "execution_count": 18,
   "metadata": {},
   "outputs": [],
   "source": [
    "# 单层/双向\n",
    "lstm3 = nn.LSTM(input_size=1,\n",
    "               hidden_size=10,\n",
    "               num_layers=1,\n",
    "               bidirectional=True)"
   ]
  },
  {
   "cell_type": "code",
   "execution_count": 19,
   "metadata": {},
   "outputs": [],
   "source": [
    "inputs = torch.rand(5, 32, 1)\n",
    "output, (h, c) = lstm3(inputs)"
   ]
  },
  {
   "cell_type": "code",
   "execution_count": 20,
   "metadata": {},
   "outputs": [
    {
     "name": "stdout",
     "output_type": "stream",
     "text": [
      "input: torch.Size([5, 32, 1])\n",
      "output: torch.Size([5, 32, 20])\n",
      "hidden: torch.Size([2, 32, 10])\n"
     ]
    }
   ],
   "source": [
    "print('input:', inputs.size())\n",
    "print('output:', output.size())\n",
    "print('hidden:', h.size())"
   ]
  },
  {
   "cell_type": "code",
   "execution_count": null,
   "metadata": {},
   "outputs": [],
   "source": []
  },
  {
   "cell_type": "code",
   "execution_count": 21,
   "metadata": {},
   "outputs": [],
   "source": [
    "# 2层/双向\n",
    "lstm4 = nn.LSTM(input_size=1,\n",
    "               hidden_size=10,\n",
    "               num_layers=2,\n",
    "               bidirectional=True)"
   ]
  },
  {
   "cell_type": "code",
   "execution_count": 22,
   "metadata": {},
   "outputs": [],
   "source": [
    "inputs = torch.rand(5, 32, 1)\n",
    "output, (h, c) = lstm4(inputs)"
   ]
  },
  {
   "cell_type": "code",
   "execution_count": 23,
   "metadata": {},
   "outputs": [
    {
     "name": "stdout",
     "output_type": "stream",
     "text": [
      "input: torch.Size([5, 32, 1])\n",
      "output: torch.Size([5, 32, 20])\n",
      "hidden: torch.Size([4, 32, 10])\n"
     ]
    }
   ],
   "source": [
    "print('input:', inputs.size())\n",
    "print('output:', output.size())\n",
    "print('hidden:', h.size())"
   ]
  },
  {
   "cell_type": "markdown",
   "metadata": {},
   "source": [
    "# GRU"
   ]
  },
  {
   "cell_type": "markdown",
   "metadata": {},
   "source": [
    "- 定义模型的参数和LSTM一样\n",
    "- 输入输出也和LSTM一样"
   ]
  },
  {
   "cell_type": "code",
   "execution_count": 25,
   "metadata": {},
   "outputs": [],
   "source": [
    "gru1= nn.GRU(input_size=1,\n",
    "             hidden_size=10,\n",
    "             num_layers=1,\n",
    "             bidirectional=False)"
   ]
  },
  {
   "cell_type": "code",
   "execution_count": 27,
   "metadata": {},
   "outputs": [],
   "source": [
    "inputs = torch.rand(5, 32, 1)\n",
    "output, h = gru1(inputs)"
   ]
  },
  {
   "cell_type": "code",
   "execution_count": 28,
   "metadata": {},
   "outputs": [
    {
     "name": "stdout",
     "output_type": "stream",
     "text": [
      "input: torch.Size([5, 32, 1])\n",
      "output: torch.Size([5, 32, 10])\n",
      "hidden: torch.Size([1, 32, 10])\n"
     ]
    }
   ],
   "source": [
    "print('input:', inputs.size())\n",
    "print('output:', output.size())\n",
    "print('hidden:', h.size())"
   ]
  },
  {
   "cell_type": "markdown",
   "metadata": {},
   "source": [
    "# CNN"
   ]
  },
  {
   "cell_type": "markdown",
   "metadata": {},
   "source": [
    "```\n",
    "- in_channels (int):  Number of channels in the input image\n",
    "- out_channels (int): Number of channels produced by the convolution\n",
    "- kernel_size (int or tuple): Size of the convolving kernel   # int的话H和W都一样，tuple分别指H和W\n",
    "- stride (int or tuple, optional): Stride of the convolution. Default: 1\n",
    "- padding (int or tuple, optional): Zero-padding added to both sides of the input. Default: 0\n",
    "- padding_mode (string, optional): ``'zeros'``, ``'reflect'``,\n",
    "                                   ``'replicate'`` or ``'circular'``. Default: ``'zeros'``\n",
    "```\n",
    "\n",
    "```\n",
    "# input:  (n, in_channels,  h,  w)\n",
    "# output: (n, out_channels, h', w')\n",
    "\n",
    "h' = (h - h_kernel + 2 * padding) / stride + 1\n",
    "w' = (w - w_kernel + 2 * padding) / stride + 1\n",
    "\n",
    "out_channels=3， 表示有3个kernel去提取特征，每个kernel去提取一个通道特征数据\n",
    "\n",
    "\n",
    "kernel的宽度和输入的宽度设为一样，就会卷积成1维数据\n",
    "\n",
    "```"
   ]
  },
  {
   "cell_type": "code",
   "execution_count": 42,
   "metadata": {},
   "outputs": [],
   "source": [
    "cnn1 = nn.Conv2d(in_channels=1,\n",
    "                 out_channels=3,\n",
    "                 kernel_size=(3, 28))"
   ]
  },
  {
   "cell_type": "code",
   "execution_count": 43,
   "metadata": {},
   "outputs": [],
   "source": [
    "inputs = torch.rand(2, 1, 28, 28)\n",
    "output = cnn1(inputs)"
   ]
  },
  {
   "cell_type": "code",
   "execution_count": 44,
   "metadata": {},
   "outputs": [
    {
     "name": "stdout",
     "output_type": "stream",
     "text": [
      "input: torch.Size([2, 1, 28, 28])\n",
      "output: torch.Size([2, 3, 26, 1])\n"
     ]
    }
   ],
   "source": [
    "print('input:', inputs.size())\n",
    "print('output:', output.size())"
   ]
  },
  {
   "cell_type": "markdown",
   "metadata": {},
   "source": [
    "# 时序数据基本操作"
   ]
  },
  {
   "cell_type": "code",
   "execution_count": 51,
   "metadata": {},
   "outputs": [],
   "source": [
    "import pandas as pd"
   ]
  },
  {
   "cell_type": "code",
   "execution_count": 93,
   "metadata": {},
   "outputs": [
    {
     "data": {
      "text/plain": [
       "(17544,)"
      ]
     },
     "execution_count": 93,
     "metadata": {},
     "output_type": "execute_result"
    }
   ],
   "source": [
    "start_date = pd.to_datetime('2015-01-01')\n",
    "end_date = pd.to_datetime('2017-01-01')\n",
    "ts = pd.date_range(start_date, end_date, freq='H', closed='left')\n",
    "ts.shape"
   ]
  },
  {
   "cell_type": "code",
   "execution_count": 116,
   "metadata": {},
   "outputs": [],
   "source": [
    "import time"
   ]
  },
  {
   "cell_type": "code",
   "execution_count": 121,
   "metadata": {},
   "outputs": [
    {
     "data": {
      "text/plain": [
       "time.struct_time(tm_year=2016, tm_mon=12, tm_mday=31, tm_hour=0, tm_min=0, tm_sec=0, tm_wday=5, tm_yday=366, tm_isdst=-1)"
      ]
     },
     "execution_count": 121,
     "metadata": {},
     "output_type": "execute_result"
    }
   ],
   "source": [
    "test_time = time.strptime('2016-12-31 00:00:00', '%Y-%m-%d %H:%M:%S')\n",
    "test_time"
   ]
  },
  {
   "cell_type": "code",
   "execution_count": 146,
   "metadata": {},
   "outputs": [
    {
     "data": {
      "text/plain": [
       "Timestamp('2016-12-31 00:00:00')"
      ]
     },
     "execution_count": 146,
     "metadata": {},
     "output_type": "execute_result"
    }
   ],
   "source": [
    "test_time = pd.to_datetime('2016-12-31 00:00:00')\n",
    "test_time"
   ]
  },
  {
   "cell_type": "code",
   "execution_count": 147,
   "metadata": {},
   "outputs": [],
   "source": [
    "ts = list(ts)"
   ]
  },
  {
   "cell_type": "code",
   "execution_count": 148,
   "metadata": {},
   "outputs": [
    {
     "data": {
      "text/plain": [
       "17520"
      ]
     },
     "execution_count": 148,
     "metadata": {},
     "output_type": "execute_result"
    }
   ],
   "source": [
    "test_index = ts.index(test_time)\n",
    "test_index"
   ]
  },
  {
   "cell_type": "code",
   "execution_count": null,
   "metadata": {},
   "outputs": [],
   "source": []
  },
  {
   "cell_type": "code",
   "execution_count": null,
   "metadata": {},
   "outputs": [],
   "source": []
  },
  {
   "cell_type": "code",
   "execution_count": null,
   "metadata": {},
   "outputs": [],
   "source": []
  }
 ],
 "metadata": {
  "kernelspec": {
   "display_name": "Python 3",
   "language": "python",
   "name": "python3"
  },
  "language_info": {
   "codemirror_mode": {
    "name": "ipython",
    "version": 3
   },
   "file_extension": ".py",
   "mimetype": "text/x-python",
   "name": "python",
   "nbconvert_exporter": "python",
   "pygments_lexer": "ipython3",
   "version": "3.6.9"
  },
  "toc": {
   "base_numbering": 1,
   "nav_menu": {},
   "number_sections": true,
   "sideBar": true,
   "skip_h1_title": false,
   "title_cell": "Table of Contents",
   "title_sidebar": "Contents",
   "toc_cell": false,
   "toc_position": {},
   "toc_section_display": true,
   "toc_window_display": false
  }
 },
 "nbformat": 4,
 "nbformat_minor": 4
}
